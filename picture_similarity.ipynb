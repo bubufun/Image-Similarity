{
 "cells": [
  {
   "cell_type": "code",
   "execution_count": 126,
   "id": "extended-ratio",
   "metadata": {},
   "outputs": [],
   "source": [
    "from keras.applications.vgg16 import VGG16\n",
    "from keras.preprocessing import image\n",
    "from keras.applications.vgg16 import preprocess_input, decode_predictions\n",
    "import numpy as np\n",
    "import os\n",
    "import sys\n"
   ]
  },
  {
   "cell_type": "code",
   "execution_count": 127,
   "id": "balanced-operation",
   "metadata": {},
   "outputs": [],
   "source": [
    "def cosine_similarity(ratings):\n",
    "    sim = ratings.dot(ratings.T)\n",
    "    if not isinstance(sim, np.ndarray):\n",
    "        sim = sim.toarray()\n",
    "    norms = np.array([np.sqrt(np.diagonal(sim))])\n",
    "    return (sim / norms / norms.T)"
   ]
  },
  {
   "cell_type": "code",
   "execution_count": 128,
   "id": "hearing-married",
   "metadata": {},
   "outputs": [],
   "source": [
    "y_test = []\n",
    "x_test = []"
   ]
  },
  {
   "cell_type": "code",
   "execution_count": 129,
   "id": "lyric-opinion",
   "metadata": {},
   "outputs": [],
   "source": [
    "for img_path in os.listdir(\"images\"):\n",
    "    if img_path.endswith(\".jpg\"):\n",
    "        img = image.load_img(\"images/\" + img_path, target_size=(224, 224))\n",
    "        y_test.append(img_path[:])\n",
    "        x = image.img_to_array(img)\n",
    "        x = np.expand_dims(x,0)\n",
    "        if len(x_test) > 0:\n",
    "            x_test = np.concatenate((x_test, x))\n",
    "        else:\n",
    "            x_test = x"
   ]
  },
  {
   "cell_type": "code",
   "execution_count": 130,
   "id": "seeing-immunology",
   "metadata": {},
   "outputs": [],
   "source": [
    "x_test = preprocess_input(x_test)"
   ]
  },
  {
   "cell_type": "code",
   "execution_count": 131,
   "id": "orange-evanescence",
   "metadata": {},
   "outputs": [],
   "source": [
    "model = VGG16(weights='imagenet', include_top=False)"
   ]
  },
  {
   "cell_type": "code",
   "execution_count": 132,
   "id": "welsh-certification",
   "metadata": {},
   "outputs": [],
   "source": [
    "features = model.predict(x_test)"
   ]
  },
  {
   "cell_type": "code",
   "execution_count": 133,
   "id": "moderate-characteristic",
   "metadata": {},
   "outputs": [],
   "source": [
    "features_compress = features.reshape(len(y_test), 7 * 7 * 512)\n",
    "sim = cosine_similarity(features_compress)"
   ]
  },
  {
   "cell_type": "code",
   "execution_count": 134,
   "id": "lesser-damage",
   "metadata": {},
   "outputs": [
    {
     "data": {
      "text/plain": [
       "5"
      ]
     },
     "execution_count": 134,
     "metadata": {},
     "output_type": "execute_result"
    }
   ],
   "source": [
    "len(features_compress)"
   ]
  },
  {
   "cell_type": "code",
   "execution_count": 84,
   "id": "raising-swing",
   "metadata": {},
   "outputs": [
    {
     "data": {
      "text/plain": [
       "2"
      ]
     },
     "execution_count": 84,
     "metadata": {},
     "output_type": "execute_result"
    }
   ],
   "source": [
    "# inputNo =int(np.random.randint(0,len(y_test),1))\n",
    "# inputNo"
   ]
  },
  {
   "cell_type": "code",
   "execution_count": 135,
   "id": "prepared-garden",
   "metadata": {},
   "outputs": [
    {
     "data": {
      "text/plain": [
       "['0000.jpg', 'bubufun.jpg', 'cs.jpg', 'img_1.jpg', 'img_2.jpg']"
      ]
     },
     "execution_count": 135,
     "metadata": {},
     "output_type": "execute_result"
    }
   ],
   "source": [
    "y_test"
   ]
  },
  {
   "cell_type": "code",
   "execution_count": 145,
   "id": "acceptable-september",
   "metadata": {},
   "outputs": [
    {
     "data": {
      "text/plain": [
       "array([0, 1], dtype=int64)"
      ]
     },
     "execution_count": 145,
     "metadata": {},
     "output_type": "execute_result"
    }
   ],
   "source": [
    "top = np.argsort(-sim[0], axis=0)[0:2]\n",
    "top"
   ]
  },
  {
   "cell_type": "code",
   "execution_count": 146,
   "id": "decimal-paste",
   "metadata": {},
   "outputs": [
    {
     "name": "stdout",
     "output_type": "stream",
     "text": [
      "['0000.jpg', 'bubufun.jpg']\n"
     ]
    }
   ],
   "source": [
    "recommend = [y_test[i] for i in top]\n",
    "print(recommend)"
   ]
  },
  {
   "cell_type": "code",
   "execution_count": 142,
   "id": "outside-aluminum",
   "metadata": {},
   "outputs": [
    {
     "name": "stdout",
     "output_type": "stream",
     "text": [
      "[[1.         0.14092879 0.12052704 0.09164122 0.1263466 ]\n",
      " [0.14092879 1.         0.09984564 0.15941733 0.19730408]\n",
      " [0.12052703 0.09984564 1.         0.12120182 0.14923565]\n",
      " [0.09164122 0.15941735 0.12120184 1.         0.24207334]\n",
      " [0.1263466  0.19730408 0.14923565 0.24207336 1.        ]]\n"
     ]
    }
   ],
   "source": [
    "print(sim)"
   ]
  },
  {
   "cell_type": "code",
   "execution_count": null,
   "id": "british-modern",
   "metadata": {},
   "outputs": [],
   "source": []
  }
 ],
 "metadata": {
  "kernelspec": {
   "display_name": "Python 3",
   "language": "python",
   "name": "python3"
  },
  "language_info": {
   "codemirror_mode": {
    "name": "ipython",
    "version": 3
   },
   "file_extension": ".py",
   "mimetype": "text/x-python",
   "name": "python",
   "nbconvert_exporter": "python",
   "pygments_lexer": "ipython3",
   "version": "3.7.4"
  }
 },
 "nbformat": 4,
 "nbformat_minor": 5
}
